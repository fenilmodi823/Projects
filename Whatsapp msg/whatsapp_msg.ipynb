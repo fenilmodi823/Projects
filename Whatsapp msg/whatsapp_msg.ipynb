{
 "cells": [
  {
   "cell_type": "code",
   "execution_count": 8,
   "metadata": {},
   "outputs": [
    {
     "name": "stdout",
     "output_type": "stream",
     "text": [
      "In 39 Seconds WhatsApp will open and after 15 Seconds Message will be Delivered!\n"
     ]
    }
   ],
   "source": [
    "import pywhatkit as pwk\n",
    "\n",
    "# Define the recepient's phone number (with country code) and the message\n",
    "phone_number = \"+917874160204\"\n",
    "message = \"Hello, this msg is sent from python code\"\n",
    "\n",
    "# Send the message\n",
    "pwk.sendwhatmsg(\"+917874160204\", \"Hi\", 18, 14)"
   ]
  }
 ],
 "metadata": {
  "kernelspec": {
   "display_name": "Python 3",
   "language": "python",
   "name": "python3"
  },
  "language_info": {
   "codemirror_mode": {
    "name": "ipython",
    "version": 3
   },
   "file_extension": ".py",
   "mimetype": "text/x-python",
   "name": "python",
   "nbconvert_exporter": "python",
   "pygments_lexer": "ipython3",
   "version": "3.13.2"
  }
 },
 "nbformat": 4,
 "nbformat_minor": 2
}
